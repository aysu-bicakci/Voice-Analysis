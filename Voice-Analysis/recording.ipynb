{
 "cells": [
  {
   "cell_type": "code",
   "execution_count": 2,
   "metadata": {},
   "outputs": [
    {
     "name": "stdout",
     "output_type": "stream",
     "text": [
      "kader_10 için ses kaydediliyor...\n",
      "c:\\Users\\HP\\OneDrive\\Belgeler\\Python\\SesTanimlama-main\\ses_verileri\\kader_10.wav kaydedildi!\n"
     ]
    }
   ],
   "source": [
    "import sounddevice as sd\n",
    "from scipy.io.wavfile import write\n",
    "import os\n",
    "\n",
    "def ses_kaydetme(sesler, sure=5):\n",
    "    print(f\"{sesler} için ses kaydediliyor...\")\n",
    "    fs = 44100  # Örnekleme frekansı\n",
    "    ses = sd.rec(int(sure * fs), samplerate=fs, channels=1)\n",
    "    sd.wait()  # Kayıt tamamlanana kadar bekle\n",
    "\n",
    "    # Projenin bulunduğu klasörde ses_verileri klasörünü oluştur\n",
    "    klasor_yolu = os.path.join(os.getcwd(), \"ses_verileri\")\n",
    "    os.makedirs(klasor_yolu, exist_ok=True)  # Klasör yoksa oluştur\n",
    "\n",
    "    # Dosya yolunu oluştur\n",
    "    dosya_yolu = os.path.join(klasor_yolu, f\"{sesler}.wav\")\n",
    "\n",
    "    # Dosyayı kaydet\n",
    "    write(dosya_yolu, fs, ses)\n",
    "    print(f\"{dosya_yolu} kaydedildi!\")\n",
    "\n",
    "# Kullanıcıların seslerini kaydedin\n",
    "ses_kaydetme(\"kader_10\", sure=5)\n"
   ]
  }
 ],
 "metadata": {
  "kernelspec": {
   "display_name": "base",
   "language": "python",
   "name": "python3"
  },
  "language_info": {
   "codemirror_mode": {
    "name": "ipython",
    "version": 3
   },
   "file_extension": ".py",
   "mimetype": "text/x-python",
   "name": "python",
   "nbconvert_exporter": "python",
   "pygments_lexer": "ipython3",
   "version": "3.12.4"
  }
 },
 "nbformat": 4,
 "nbformat_minor": 2
}
